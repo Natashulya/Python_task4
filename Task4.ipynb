{
 "cells": [
  {
   "cell_type": "code",
   "execution_count": 1,
   "id": "dbb52750",
   "metadata": {},
   "outputs": [],
   "source": [
    "#task_1"
   ]
  },
  {
   "cell_type": "code",
   "execution_count": 2,
   "id": "87a1866a",
   "metadata": {},
   "outputs": [
    {
     "name": "stdout",
     "output_type": "stream",
     "text": [
      "[98, 35, 15, 213, 54, 119]\n"
     ]
    }
   ],
   "source": [
    "ids = {'user1': [213, 213, 213, 15, 213], \n",
    "       'user2': [54, 54, 119, 119, 119], \n",
    "       'user3': [213, 98, 98, 35]}\n",
    "       \n",
    "all_ids = []\n",
    "\n",
    "for user, values in ids.items():\n",
    "    all_ids += values\n",
    "    \n",
    "unique_ids = list(set(all_ids))\n",
    " \n",
    "print (unique_ids)"
   ]
  },
  {
   "cell_type": "code",
   "execution_count": 4,
   "id": "88df115a",
   "metadata": {},
   "outputs": [],
   "source": [
    "#Task_2"
   ]
  },
  {
   "cell_type": "code",
   "execution_count": 5,
   "id": "d4570d04",
   "metadata": {},
   "outputs": [
    {
     "name": "stdout",
     "output_type": "stream",
     "text": [
      "Поисковых запросов из 3 - слов 57.142857142857146%, из 2 - слов 42.85714285714286%\n"
     ]
    }
   ],
   "source": [
    "queries = [\n",
    "    'смотреть сериалы онлайн',\n",
    "    'новости спорта',\n",
    "    'афиша кино',\n",
    "    'курс доллара',\n",
    "    'сериалы этим летом',\n",
    "    'курс по питону',\n",
    "    'сериалы про спорт',\n",
    "]\n",
    "\n",
    "dict = {}\n",
    "result = ''\n",
    "queries_len = len(queries )\n",
    "\n",
    "for query in queries:\n",
    "    length = len(query.split(' '))\n",
    "    if length in dict:\n",
    "        dict[length] += 1\n",
    "    else :\n",
    "        dict[length] = 1\n",
    "   \n",
    "\n",
    "     \n",
    "for words, quntity in dict.items():\n",
    "    if not result:\n",
    "        result = \"Поисковых запросов из {0} - слов {1}%\".format(words, (100/queries_len)*quntity)\n",
    "    else:\n",
    "        result +=\", из {0} - слов {1}%\".format(words, (100/queries_len)*quntity)\n",
    "        \n",
    "print(result)"
   ]
  },
  {
   "cell_type": "code",
   "execution_count": 6,
   "id": "1492c314",
   "metadata": {},
   "outputs": [],
   "source": [
    "#Task_4"
   ]
  },
  {
   "cell_type": "code",
   "execution_count": 9,
   "id": "6cdf83c3",
   "metadata": {},
   "outputs": [
    {
     "data": {
      "text/plain": [
       "'vk'"
      ]
     },
     "execution_count": 9,
     "metadata": {},
     "output_type": "execute_result"
    }
   ],
   "source": [
    "stats = {'facebook': 55, 'yandex': 115, 'vk': 120, 'google': 99, 'email': 42, 'ok': 98}\n",
    "\n",
    "max(stats, key=stats.get)"
   ]
  },
  {
   "cell_type": "code",
   "execution_count": 10,
   "id": "a968de37",
   "metadata": {},
   "outputs": [],
   "source": [
    "#Task_3"
   ]
  },
  {
   "cell_type": "code",
   "execution_count": 11,
   "id": "fb935656",
   "metadata": {},
   "outputs": [
    {
     "name": "stdout",
     "output_type": "stream",
     "text": [
      "vk {'revenue': 103, 'cost': 98, 'ROI': 5.1}\n",
      "yandex {'revenue': 179, 'cost': 153, 'ROI': 16.99}\n",
      "facebook {'revenue': 103, 'cost': 110, 'ROI': -6.36}\n",
      "adwords {'revenue': 35, 'cost': 34, 'ROI': 2.94}\n",
      "twitter {'revenue': 11, 'cost': 24, 'ROI': -54.17}\n"
     ]
    }
   ],
   "source": [
    "results = {\n",
    "'vk': {'revenue': 103, 'cost': 98},\n",
    "'yandex': {'revenue': 179, 'cost': 153},\n",
    "'facebook': {'revenue': 103, 'cost': 110},\n",
    "'adwords': {'revenue': 35, 'cost': 34},\n",
    "'twitter': {'revenue': 11, 'cost': 24},\n",
    "}\n",
    "\n",
    "for key, value in results.items():\n",
    "    #print('revenue', value['revenue'])\n",
    "    #print('cost', value['cost'])\n",
    "    value['ROI'] = round(((value['revenue'] / value['cost']) - 1)*100 , 2)\n",
    "    #print('ROI', value['ROI'])\n",
    "\n",
    "    print(key, value)"
   ]
  },
  {
   "cell_type": "code",
   "execution_count": null,
   "id": "38f375ea",
   "metadata": {},
   "outputs": [],
   "source": []
  }
 ],
 "metadata": {
  "kernelspec": {
   "display_name": "Python 3",
   "language": "python",
   "name": "python3"
  },
  "language_info": {
   "codemirror_mode": {
    "name": "ipython",
    "version": 3
   },
   "file_extension": ".py",
   "mimetype": "text/x-python",
   "name": "python",
   "nbconvert_exporter": "python",
   "pygments_lexer": "ipython3",
   "version": "3.8.8"
  }
 },
 "nbformat": 4,
 "nbformat_minor": 5
}
